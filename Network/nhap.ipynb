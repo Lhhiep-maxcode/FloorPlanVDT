{
 "cells": [
  {
   "cell_type": "code",
   "execution_count": 2,
   "id": "61ec3ffd",
   "metadata": {},
   "outputs": [],
   "source": [
    "!python split.py "
   ]
  },
  {
   "cell_type": "code",
   "execution_count": 4,
   "id": "ea64eee8",
   "metadata": {},
   "outputs": [
    {
     "name": "stdout",
     "output_type": "stream",
     "text": [
      "/home/vcc_ai/project/FloorPlanVDT/Network/train.py:28: DeprecationWarning: /home/vcc_ai/miniconda3/envs/g2p_app/lib/python3.10/site-packages/ignite/contrib/handlers/tensorboard_logger.py has been moved to /ignite/handlers/tensorboard_logger.py and will be removed in version 0.6.0.\n",
      " Please refer to the documentation for more details.\n",
      "  from ignite.contrib.handlers.tensorboard_logger import *\n",
      "Create dir...\n",
      "Create dataloader...\n",
      "train,shuffle: True\n",
      "valid,shuffle: False\n",
      "test,shuffle: False\n",
      "Create model...\n",
      "Gene: True\n",
      "Refine: True\n",
      "Cat feat: True\n",
      "GT BOX: 0\n",
      "Iniside Loss: 1\n",
      "Coverage Loss: 1\n",
      "Mutex Loss: 1\n",
      "Render Loss: 1\n",
      "Traceback (most recent call last):\n",
      "  File \"/home/vcc_ai/project/FloorPlanVDT/Network/train.py\", line 604, in <module>\n",
      "    main(args)\n",
      "  File \"/home/vcc_ai/project/FloorPlanVDT/Network/train.py\", line 256, in main\n",
      "    loss = get_losses(args)\n",
      "  File \"/home/vcc_ai/project/FloorPlanVDT/Network/train.py\", line 171, in get_losses\n",
      "    weight = torch.ones(15).cuda()\n",
      "  File \"/home/vcc_ai/miniconda3/envs/g2p_app/lib/python3.10/site-packages/torch/cuda/__init__.py\", line 372, in _lazy_init\n",
      "    torch._C._cuda_init()\n",
      "RuntimeError: Found no NVIDIA driver on your system. Please check that you have an NVIDIA GPU and installed a driver from http://www.nvidia.com/Download/index.aspx\n"
     ]
    }
   ],
   "source": [
    "!python train.py"
   ]
  },
  {
   "cell_type": "code",
   "execution_count": null,
   "id": "d11f023e",
   "metadata": {},
   "outputs": [],
   "source": []
  }
 ],
 "metadata": {
  "kernelspec": {
   "display_name": "g2p_app",
   "language": "python",
   "name": "python3"
  },
  "language_info": {
   "codemirror_mode": {
    "name": "ipython",
    "version": 3
   },
   "file_extension": ".py",
   "mimetype": "text/x-python",
   "name": "python",
   "nbconvert_exporter": "python",
   "pygments_lexer": "ipython3",
   "version": "3.10.18"
  }
 },
 "nbformat": 4,
 "nbformat_minor": 5
}
