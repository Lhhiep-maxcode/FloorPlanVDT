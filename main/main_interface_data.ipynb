{
 "cells": [
  {
   "cell_type": "code",
   "execution_count": 1,
   "id": "5a68c053",
   "metadata": {},
   "outputs": [],
   "source": [
    "import random\n",
    "import scipy.io as sio\n",
    "import matplotlib.pyplot as plt\n",
    "\n",
    "from app import App\n",
    "from g2p.plot import plot_fp"
   ]
  },
  {
   "cell_type": "code",
   "execution_count": 2,
   "id": "abd17d5e",
   "metadata": {},
   "outputs": [],
   "source": [
    "import pickle"
   ]
  },
  {
   "cell_type": "code",
   "execution_count": null,
   "id": "f93a4e2b",
   "metadata": {},
   "outputs": [
    {
     "data": {
      "text/plain": [
       "array([1, 1, 1, 1, 0, 0, 1, 1, 0, 1, 0, 0, 0, 3], dtype=uint8)"
      ]
     },
     "execution_count": 12,
     "metadata": {},
     "output_type": "execute_result"
    }
   ],
   "source": [
    "app = App(model_path,device,train_path,tf_path,centroid_path,cluster_path)\n",
    "\n",
    "data = pickle.load(open('H:\\Project\\FloorPlanVDT\\main\\data_test_converted.pkl','rb'))['data'][0]\n",
    "\n",
    "# retrieve-> transfer -> predict -> align -> decorate\n",
    "data_boundary = data[0]\n",
    "data_graph = app.retrieve(data_boundary)[0]\n",
    "data = app.transfer(data_boundary,data_graph)\n",
    "data = app.forward(data,network_data=False)\n",
    "data = app.align(data)\n",
    "data = app.decorate(data)"
   ]
  },
  {
   "cell_type": "code",
   "execution_count": null,
   "id": "aafbdf9b",
   "metadata": {},
   "outputs": [],
   "source": []
  }
 ],
 "metadata": {
  "kernelspec": {
   "display_name": "graph2plan",
   "language": "python",
   "name": "python3"
  },
  "language_info": {
   "codemirror_mode": {
    "name": "ipython",
    "version": 3
   },
   "file_extension": ".py",
   "mimetype": "text/x-python",
   "name": "python",
   "nbconvert_exporter": "python",
   "pygments_lexer": "ipython3",
   "version": "3.10.18"
  }
 },
 "nbformat": 4,
 "nbformat_minor": 5
}
